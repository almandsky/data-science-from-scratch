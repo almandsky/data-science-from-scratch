{
 "cells": [
  {
   "cell_type": "markdown",
   "metadata": {},
   "source": [
    "# Import Dependencies"
   ]
  },
  {
   "cell_type": "code",
   "execution_count": 2,
   "metadata": {
    "collapsed": true
   },
   "outputs": [],
   "source": [
    "import math, random, re\n",
    "from collections import defaultdict, Counter\n",
    "from bs4 import BeautifulSoup\n",
    "import requests\n",
    "import matplotlib.pyplot as plt"
   ]
  },
  {
   "cell_type": "markdown",
   "metadata": {},
   "source": [
    "# Word Clouds"
   ]
  },
  {
   "cell_type": "code",
   "execution_count": 3,
   "metadata": {},
   "outputs": [
    {
     "data": {
      "image/png": "[encoded data removed]",
      "text/plain": [
       "<matplotlib.figure.Figure at 0x114adb350>"
      ]
     },
     "metadata": {},
     "output_type": "display_data"
    }
   ],
   "source": [
    "def plot_resumes(plt):\n",
    "    data = [ (\"big data\", 100, 15), (\"Hadoop\", 95, 25), (\"Python\", 75, 50),\n",
    "         (\"R\", 50, 40), (\"machine learning\", 80, 20), (\"statistics\", 20, 60),\n",
    "         (\"data science\", 60, 70), (\"analytics\", 90, 3),\n",
    "         (\"team player\", 85, 85), (\"dynamic\", 2, 90), (\"synergies\", 70, 0),\n",
    "         (\"actionable insights\", 40, 30), (\"think out of the box\", 45, 10),\n",
    "         (\"self-starter\", 30, 50), (\"customer focus\", 65, 15),\n",
    "         (\"thought leadership\", 35, 35)]\n",
    "\n",
    "    def text_size(total):\n",
    "        \"\"\"equals 8 if total is 0, 28 if total is 200\"\"\"\n",
    "        return 8 + total / 200 * 20\n",
    "\n",
    "    for word, job_popularity, resume_popularity in data:\n",
    "        plt.text(job_popularity, resume_popularity, word,\n",
    "                 ha='center', va='center',\n",
    "                 size=text_size(job_popularity + resume_popularity))\n",
    "    plt.xlabel(\"Popularity on Job Postings\")\n",
    "    plt.ylabel(\"Popularity on Resumes\")\n",
    "    plt.axis([0, 100, 0, 100])\n",
    "    plt.show()\n",
    "    \n",
    "plot_resumes(plt)"
   ]
  },
  {
   "cell_type": "markdown",
   "metadata": {},
   "source": [
    "# n-gram Models"
   ]
  },
  {
   "cell_type": "code",
   "execution_count": 4,
   "metadata": {
    "collapsed": true
   },
   "outputs": [],
   "source": [
    "#\n",
    "# n-gram models\n",
    "#\n",
    "\n",
    "def fix_unicode(text):\n",
    "    return text.replace(u\"\\u2019\", \"'\")\n",
    "\n",
    "def get_document():\n",
    "\n",
    "    url = \"http://radar.oreilly.com/2010/06/what-is-data-science.html\"\n",
    "    html = requests.get(url).text\n",
    "    soup = BeautifulSoup(html, 'html5lib')\n",
    "\n",
    "    content = soup.find(\"div\", \"article-body\")         # find article-body div\n",
    "    regex = r\"[\\w']+|[\\.]\"                             # matches a word or a period\n",
    "\n",
    "    document = []\n",
    "\n",
    "\n",
    "    for paragraph in content(\"p\"):\n",
    "        words = re.findall(regex, fix_unicode(paragraph.text))\n",
    "        document.extend(words)\n",
    "\n",
    "    return document\n",
    "\n",
    "def generate_using_bigrams(transitions):\n",
    "    current = \".\"   # this means the next word will start a sentence\n",
    "    result = []\n",
    "    while True:\n",
    "        next_word_candidates = transitions[current]    # bigrams (current, _)\n",
    "        current = random.choice(next_word_candidates)  # choose one at random\n",
    "        result.append(current)                         # append it to results\n",
    "        if current == \".\": return \" \".join(result)     # if \".\" we're done\n",
    "\n",
    "def generate_using_trigrams(starts, trigram_transitions):\n",
    "    current = random.choice(starts)   # choose a random starting word\n",
    "    prev = \".\"                        # and precede it with a '.'\n",
    "    result = [current]\n",
    "    while True:\n",
    "        next_word_candidates = trigram_transitions[(prev, current)]\n",
    "        next = random.choice(next_word_candidates)\n",
    "\n",
    "        prev, current = current, next\n",
    "        result.append(current)\n",
    "\n",
    "        if current == \".\":\n",
    "            return \" \".join(result)\n",
    "\n",
    "def is_terminal(token):\n",
    "    return token[0] != \"_\"\n",
    "\n",
    "def expand(grammar, tokens):\n",
    "    for i, token in enumerate(tokens):\n",
    "\n",
    "        # ignore terminals\n",
    "        if is_terminal(token): continue\n",
    "\n",
    "        # choose a replacement at random\n",
    "        replacement = random.choice(grammar[token])\n",
    "\n",
    "        if is_terminal(replacement):\n",
    "            tokens[i] = replacement\n",
    "        else:\n",
    "            tokens = tokens[:i] + replacement.split() + tokens[(i+1):]\n",
    "        return expand(grammar, tokens)\n",
    "\n",
    "    # if we get here we had all terminals and are done\n",
    "    return tokens\n",
    "\n",
    "def generate_sentence(grammar):\n",
    "    return expand(grammar, [\"_S\"])"
   ]
  },
  {
   "cell_type": "code",
   "execution_count": 6,
   "metadata": {
    "collapsed": true
   },
   "outputs": [],
   "source": [
    "document = get_document()"
   ]
  },
  {
   "cell_type": "code",
   "execution_count": 9,
   "metadata": {},
   "outputs": [
    {
     "name": "stdout",
     "output_type": "stream",
     "text": [
      "bigram sentences\n",
      "(0, u'Scientists also frequently missing do you can involve video is a high level dataflow language understanding how to looking for traditional statistics work .')\n",
      "(1, u'92 percent .')\n",
      "(2, u'ly are inherently interdiscplinary .')\n",
      "(3, u\"We don't have a foundational text for most of these databases are we now terabyte drives in Beautiful Data conditioning or getting humans or some hints at what Patil described the application with Apple industry .\")\n",
      "(4, u\"But we've seen much of known data products .\")\n",
      "(5, u'The ability to come up with the aesthetics of presenting results of huge mountain of a basic skill in not in enabling agile practices are extremely large snakes .')\n",
      "(6, u\"And that gave them are many sides of data centric industries have to classify them open source R analyzes mortgage foreclosures in R was an audio and more traditional techniques for R language understanding of the customers' behavior the trick was an agile data analysis over time MapReduce make that almost all you're going to many large searches correlates what Patil chief scientist at LinkedIn dpatil the HTML file that the dirty work with clients to look at bit .\")\n",
      "(7, u'Five years there was all equipment fails you can replace artificial intelligence problem as awk to capture all heard big picture the MapReduce has an end solution .')\n",
      "(8, u'The NASA article denies this but different assumptions different from machine consumable .')\n",
      "(9, u\"Yahoo's claim that provides an array of data scientists tend to XML files with R was disambiguating Apple from initial data driven apps .\")\n",
      "()\n"
     ]
    }
   ],
   "source": [
    "# bigrams\n",
    "bigrams = list(zip(document, document[1:]))\n",
    "transitions = defaultdict(list)\n",
    "for prev, current in bigrams:\n",
    "    transitions[prev].append(current)\n",
    "\n",
    "random.seed(0)\n",
    "print(\"bigram sentences\")\n",
    "for i in range(10):\n",
    "    print(i, generate_using_bigrams(transitions))\n",
    "print()\n",
    "\n"
   ]
  },
  {
   "cell_type": "code",
   "execution_count": 10,
   "metadata": {},
   "outputs": [
    {
     "name": "stdout",
     "output_type": "stream",
     "text": [
      "trigram sentences\n",
      "(0, u'Hadoop processes data as a data platform .')\n",
      "(1, u'It was an agile flexible process that built toward its goal incrementally rather than for traditional analysis and use data .')\n",
      "(2, u'To do data conditioning if you understand what correlation means .')\n",
      "(3, u'93 percent .')\n",
      "(4, u'While rock solid consistency is crucial to each stage of the toolbox .')\n",
      "(5, u\"Here's a few examples Google isn't the only company that knows how to use anything from ancient Unix utilities such as awk to XML parsers and machine learning .\")\n",
      "(6, u'What differentiates data science .')\n",
      "(7, u'1 The NASA article denies this but also says that when she gets a new breed of databases appear .')\n",
      "(8, u\"What differentiates data science what you think it's telling .\")\n",
      "(9, u'Data is everywhere your government your web server your business partners even your body .')\n",
      "()\n"
     ]
    }
   ],
   "source": [
    "# trigrams\n",
    "\n",
    "trigrams = list(zip(document, document[1:], document[2:]))\n",
    "trigram_transitions = defaultdict(list)\n",
    "starts = []\n",
    "\n",
    "for prev, current, next in trigrams:\n",
    "\n",
    "    if prev == \".\":              # if the previous \"word\" was a period\n",
    "        starts.append(current)   # then this is a start word\n",
    "\n",
    "    trigram_transitions[(prev, current)].append(next)\n",
    "\n",
    "print(\"trigram sentences\")\n",
    "for i in range(10):\n",
    "    print(i, generate_using_trigrams(starts, trigram_transitions))\n",
    "print()"
   ]
  },
  {
   "cell_type": "markdown",
   "metadata": {},
   "source": [
    "# Grammars"
   ]
  },
  {
   "cell_type": "code",
   "execution_count": 11,
   "metadata": {},
   "outputs": [
    {
     "name": "stdout",
     "output_type": "stream",
     "text": [
      "grammar sentences\n",
      "(0, 'logistic logistic Python near logistic Python near linear Python is big Python about big regression')\n",
      "(1, 'Python learns big regression about big Python')\n",
      "(2, 'logistic big linear linear Python about big Python near big Python about linear regression about logistic Python tests')\n",
      "(3, 'regression is regression')\n",
      "(4, 'logistic logistic logistic regression about logistic Python near big data science near linear regression tests big regression near logistic regression')\n",
      "(5, 'data science tests')\n",
      "(6, 'linear regression near big Python learns logistic big Python about linear data science near logistic data science')\n",
      "(7, 'data science is data science')\n",
      "(8, 'Python learns Python')\n",
      "(9, 'regression trains')\n",
      "()\n"
     ]
    }
   ],
   "source": [
    "grammar = {\n",
    "    \"_S\"  : [\"_NP _VP\"],\n",
    "    \"_NP\" : [\"_N\",\n",
    "             \"_A _NP _P _A _N\"],\n",
    "    \"_VP\" : [\"_V\",\n",
    "             \"_V _NP\"],\n",
    "    \"_N\"  : [\"data science\", \"Python\", \"regression\"],\n",
    "    \"_A\"  : [\"big\", \"linear\", \"logistic\"],\n",
    "    \"_P\"  : [\"about\", \"near\"],\n",
    "    \"_V\"  : [\"learns\", \"trains\", \"tests\", \"is\"]\n",
    "}\n",
    "\n",
    "print(\"grammar sentences\")\n",
    "for i in range(10):\n",
    "    print(i, \" \".join(generate_sentence(grammar)))\n",
    "print()"
   ]
  },
  {
   "cell_type": "markdown",
   "metadata": {},
   "source": [
    "# An Aside: Gibbs Sampling"
   ]
  },
  {
   "cell_type": "code",
   "execution_count": 12,
   "metadata": {
    "collapsed": true
   },
   "outputs": [],
   "source": [
    "#\n",
    "# Gibbs Sampling\n",
    "#\n",
    "\n",
    "def roll_a_die():\n",
    "    return random.choice([1,2,3,4,5,6])\n",
    "\n",
    "def direct_sample():\n",
    "    d1 = roll_a_die()\n",
    "    d2 = roll_a_die()\n",
    "    return d1, d1 + d2\n",
    "\n",
    "def random_y_given_x(x):\n",
    "    \"\"\"equally likely to be x + 1, x + 2, ... , x + 6\"\"\"\n",
    "    return x + roll_a_die()\n",
    "\n",
    "def random_x_given_y(y):\n",
    "    if y <= 7:\n",
    "        # if the total is 7 or less, the first die is equally likely to be\n",
    "        # 1, 2, ..., (total - 1)\n",
    "        return random.randrange(1, y)\n",
    "    else:\n",
    "        # if the total is 7 or more, the first die is equally likely to be\n",
    "        # (total - 6), (total - 5), ..., 6\n",
    "        return random.randrange(y - 6, 7)\n",
    "\n",
    "def gibbs_sample(num_iters=100):\n",
    "    x, y = 1, 2 # doesn't really matter\n",
    "    for _ in range(num_iters):\n",
    "        x = random_x_given_y(y)\n",
    "        y = random_y_given_x(x)\n",
    "    return x, y\n",
    "\n",
    "def compare_distributions(num_samples=1000):\n",
    "    counts = defaultdict(lambda: [0, 0])\n",
    "    for _ in range(num_samples):\n",
    "        counts[gibbs_sample()][0] += 1\n",
    "        counts[direct_sample()][1] += 1\n",
    "    return counts\n"
   ]
  },
  {
   "cell_type": "code",
   "execution_count": 78,
   "metadata": {
    "collapsed": true
   },
   "outputs": [],
   "source": [
    "comparison = compare_distributions()"
   ]
  },
  {
   "cell_type": "code",
   "execution_count": 79,
   "metadata": {},
   "outputs": [
    {
     "data": {
      "text/plain": [
       "[((5, 9), [36, 29]),\n",
       " ((6, 9), [27, 28]),\n",
       " ((1, 3), [20, 22]),\n",
       " ((4, 8), [29, 16]),\n",
       " ((5, 6), [23, 20]),\n",
       " ((2, 8), [29, 30]),\n",
       " ((4, 7), [28, 27]),\n",
       " ((1, 6), [28, 27]),\n",
       " ((3, 7), [26, 32]),\n",
       " ((2, 5), [38, 22]),\n",
       " ((5, 8), [35, 25]),\n",
       " ((1, 2), [31, 29]),\n",
       " ((6, 7), [23, 27]),\n",
       " ((1, 5), [29, 18]),\n",
       " ((6, 10), [26, 31]),\n",
       " ((4, 5), [31, 32]),\n",
       " ((3, 6), [28, 24]),\n",
       " ((4, 9), [30, 21]),\n",
       " ((4, 10), [35, 33]),\n",
       " ((2, 6), [26, 39]),\n",
       " ((5, 11), [31, 30]),\n",
       " ((6, 11), [32, 34]),\n",
       " ((1, 4), [30, 26]),\n",
       " ((3, 9), [34, 25]),\n",
       " ((2, 3), [22, 33]),\n",
       " ((6, 8), [24, 30]),\n",
       " ((6, 12), [23, 33]),\n",
       " ((3, 5), [17, 27]),\n",
       " ((2, 7), [23, 29]),\n",
       " ((5, 10), [30, 25]),\n",
       " ((4, 6), [21, 37]),\n",
       " ((5, 7), [25, 28]),\n",
       " ((3, 8), [26, 27]),\n",
       " ((1, 7), [34, 27]),\n",
       " ((3, 4), [31, 33]),\n",
       " ((2, 4), [19, 24])]"
      ]
     },
     "execution_count": 79,
     "metadata": {},
     "output_type": "execute_result"
    }
   ],
   "source": [
    "comparison.items()"
   ]
  },
  {
   "cell_type": "code",
   "execution_count": 13,
   "metadata": {},
   "outputs": [
    {
     "name": "stdout",
     "output_type": "stream",
     "text": [
      "gibbs sampling\n",
      "((5, 9), 23, 31)\n",
      "((4, 7), 24, 34)\n",
      "((1, 3), 32, 26)\n",
      "((4, 8), 23, 23)\n",
      "((5, 6), 25, 25)\n",
      "((2, 8), 30, 22)\n",
      "((6, 9), 35, 33)\n",
      "((1, 6), 30, 32)\n",
      "((6, 12), 25, 19)\n",
      "((3, 7), 33, 28)\n",
      "((2, 5), 27, 21)\n",
      "((5, 8), 22, 35)\n",
      "((1, 2), 32, 20)\n",
      "((6, 7), 26, 21)\n",
      "((6, 10), 21, 23)\n",
      "((1, 5), 40, 26)\n",
      "((3, 6), 37, 23)\n",
      "((3, 5), 30, 33)\n",
      "((4, 10), 32, 32)\n",
      "((2, 6), 22, 28)\n",
      "((5, 11), 24, 23)\n",
      "((4, 5), 34, 33)\n",
      "((6, 11), 33, 25)\n",
      "((1, 4), 21, 26)\n",
      "((3, 9), 27, 19)\n",
      "((2, 3), 28, 26)\n",
      "((4, 9), 18, 27)\n",
      "((4, 6), 28, 36)\n",
      "((2, 7), 28, 39)\n",
      "((5, 10), 26, 36)\n",
      "((6, 8), 29, 34)\n",
      "((5, 7), 23, 20)\n",
      "((3, 8), 28, 31)\n",
      "((1, 7), 31, 36)\n",
      "((3, 4), 25, 27)\n",
      "((2, 4), 28, 27)\n"
     ]
    }
   ],
   "source": [
    "print(\"gibbs sampling\")\n",
    "comparison = compare_distributions()\n",
    "for roll, (gibbs, direct) in comparison.items():\n",
    "    print(roll, gibbs, direct)\n"
   ]
  },
  {
   "cell_type": "markdown",
   "metadata": {},
   "source": [
    "# Topic Modeling"
   ]
  },
  {
   "cell_type": "code",
   "execution_count": 18,
   "metadata": {
    "collapsed": true
   },
   "outputs": [],
   "source": [
    "#\n",
    "# TOPIC MODELING\n",
    "#\n",
    "\n",
    "def sample_from(weights):\n",
    "    total = sum(weights)\n",
    "    rnd = total * random.random()       # uniform between 0 and total\n",
    "    for i, w in enumerate(weights):\n",
    "        rnd -= w                        # return the smallest i such that\n",
    "        if rnd <= 0: return i           # sum(weights[:(i+1)]) >= rnd"
   ]
  },
  {
   "cell_type": "code",
   "execution_count": 19,
   "metadata": {
    "collapsed": true
   },
   "outputs": [],
   "source": [
    "documents = [\n",
    "    [\"Hadoop\", \"Big Data\", \"HBase\", \"Java\", \"Spark\", \"Storm\", \"Cassandra\"],\n",
    "    [\"NoSQL\", \"MongoDB\", \"Cassandra\", \"HBase\", \"Postgres\"],\n",
    "    [\"Python\", \"scikit-learn\", \"scipy\", \"numpy\", \"statsmodels\", \"pandas\"],\n",
    "    [\"R\", \"Python\", \"statistics\", \"regression\", \"probability\"],\n",
    "    [\"machine learning\", \"regression\", \"decision trees\", \"libsvm\"],\n",
    "    [\"Python\", \"R\", \"Java\", \"C++\", \"Haskell\", \"programming languages\"],\n",
    "    [\"statistics\", \"probability\", \"mathematics\", \"theory\"],\n",
    "    [\"machine learning\", \"scikit-learn\", \"Mahout\", \"neural networks\"],\n",
    "    [\"neural networks\", \"deep learning\", \"Big Data\", \"artificial intelligence\"],\n",
    "    [\"Hadoop\", \"Java\", \"MapReduce\", \"Big Data\"],\n",
    "    [\"statistics\", \"R\", \"statsmodels\"],\n",
    "    [\"C++\", \"deep learning\", \"artificial intelligence\", \"probability\"],\n",
    "    [\"pandas\", \"R\", \"Python\"],\n",
    "    [\"databases\", \"HBase\", \"Postgres\", \"MySQL\", \"MongoDB\"],\n",
    "    [\"libsvm\", \"regression\", \"support vector machines\"]\n",
    "]\n",
    "\n",
    "K = 4\n",
    "\n",
    "document_topic_counts = [Counter()\n",
    "                         for _ in documents]"
   ]
  },
  {
   "cell_type": "code",
   "execution_count": 82,
   "metadata": {},
   "outputs": [
    {
     "data": {
      "text/plain": [
       "'regression'"
      ]
     },
     "execution_count": 82,
     "metadata": {},
     "output_type": "execute_result"
    }
   ],
   "source": [
    "documents[3][3]"
   ]
  },
  {
   "cell_type": "code",
   "execution_count": 20,
   "metadata": {},
   "outputs": [
    {
     "data": {
      "text/plain": [
       "[Counter(),\n",
       " Counter(),\n",
       " Counter(),\n",
       " Counter(),\n",
       " Counter(),\n",
       " Counter(),\n",
       " Counter(),\n",
       " Counter(),\n",
       " Counter(),\n",
       " Counter(),\n",
       " Counter(),\n",
       " Counter(),\n",
       " Counter(),\n",
       " Counter(),\n",
       " Counter()]"
      ]
     },
     "execution_count": 20,
     "metadata": {},
     "output_type": "execute_result"
    }
   ],
   "source": [
    "document_topic_counts"
   ]
  },
  {
   "cell_type": "code",
   "execution_count": 21,
   "metadata": {
    "collapsed": true
   },
   "outputs": [],
   "source": [
    "topic_word_counts = [Counter() for _ in range(K)]"
   ]
  },
  {
   "cell_type": "code",
   "execution_count": 22,
   "metadata": {},
   "outputs": [
    {
     "data": {
      "text/plain": [
       "[Counter(), Counter(), Counter(), Counter()]"
      ]
     },
     "execution_count": 22,
     "metadata": {},
     "output_type": "execute_result"
    }
   ],
   "source": [
    "topic_word_counts"
   ]
  },
  {
   "cell_type": "code",
   "execution_count": 23,
   "metadata": {
    "collapsed": true
   },
   "outputs": [],
   "source": [
    "topic_counts = [0 for _ in range(K)]"
   ]
  },
  {
   "cell_type": "code",
   "execution_count": 24,
   "metadata": {},
   "outputs": [
    {
     "data": {
      "text/plain": [
       "[0, 0, 0, 0]"
      ]
     },
     "execution_count": 24,
     "metadata": {},
     "output_type": "execute_result"
    }
   ],
   "source": [
    "topic_counts"
   ]
  },
  {
   "cell_type": "code",
   "execution_count": 25,
   "metadata": {
    "collapsed": true
   },
   "outputs": [],
   "source": [
    "document_lengths = [len(d) for d in documents]"
   ]
  },
  {
   "cell_type": "code",
   "execution_count": 26,
   "metadata": {},
   "outputs": [
    {
     "data": {
      "text/plain": [
       "[7, 5, 6, 5, 4, 6, 4, 4, 4, 4, 3, 4, 3, 5, 3]"
      ]
     },
     "execution_count": 26,
     "metadata": {},
     "output_type": "execute_result"
    }
   ],
   "source": [
    "document_lengths"
   ]
  },
  {
   "cell_type": "code",
   "execution_count": 27,
   "metadata": {
    "collapsed": true
   },
   "outputs": [],
   "source": [
    "distinct_words = set(word for document in documents for word in document)"
   ]
  },
  {
   "cell_type": "code",
   "execution_count": 28,
   "metadata": {},
   "outputs": [
    {
     "data": {
      "text/plain": [
       "{'Big Data',\n",
       " 'C++',\n",
       " 'Cassandra',\n",
       " 'HBase',\n",
       " 'Hadoop',\n",
       " 'Haskell',\n",
       " 'Java',\n",
       " 'Mahout',\n",
       " 'MapReduce',\n",
       " 'MongoDB',\n",
       " 'MySQL',\n",
       " 'NoSQL',\n",
       " 'Postgres',\n",
       " 'Python',\n",
       " 'R',\n",
       " 'Spark',\n",
       " 'Storm',\n",
       " 'artificial intelligence',\n",
       " 'databases',\n",
       " 'decision trees',\n",
       " 'deep learning',\n",
       " 'libsvm',\n",
       " 'machine learning',\n",
       " 'mathematics',\n",
       " 'neural networks',\n",
       " 'numpy',\n",
       " 'pandas',\n",
       " 'probability',\n",
       " 'programming languages',\n",
       " 'regression',\n",
       " 'scikit-learn',\n",
       " 'scipy',\n",
       " 'statistics',\n",
       " 'statsmodels',\n",
       " 'support vector machines',\n",
       " 'theory'}"
      ]
     },
     "execution_count": 28,
     "metadata": {},
     "output_type": "execute_result"
    }
   ],
   "source": [
    "distinct_words"
   ]
  },
  {
   "cell_type": "code",
   "execution_count": 29,
   "metadata": {
    "collapsed": true
   },
   "outputs": [],
   "source": [
    "W = len(distinct_words)\n",
    "\n",
    "D = len(documents)"
   ]
  },
  {
   "cell_type": "code",
   "execution_count": 30,
   "metadata": {},
   "outputs": [
    {
     "data": {
      "text/plain": [
       "36"
      ]
     },
     "execution_count": 30,
     "metadata": {},
     "output_type": "execute_result"
    }
   ],
   "source": [
    "W"
   ]
  },
  {
   "cell_type": "code",
   "execution_count": 31,
   "metadata": {},
   "outputs": [
    {
     "data": {
      "text/plain": [
       "15"
      ]
     },
     "execution_count": 31,
     "metadata": {},
     "output_type": "execute_result"
    }
   ],
   "source": [
    "D"
   ]
  },
  {
   "cell_type": "code",
   "execution_count": 32,
   "metadata": {
    "collapsed": true
   },
   "outputs": [],
   "source": [
    "def p_topic_given_document(topic, d, alpha=0.1):\n",
    "    \"\"\"the fraction of words in document _d_\n",
    "    that are assigned to _topic_ (plus some smoothing)\"\"\"\n",
    "\n",
    "    return ((document_topic_counts[d][topic] + alpha) /\n",
    "            (document_lengths[d] + K * alpha))\n",
    "\n",
    "def p_word_given_topic(word, topic, beta=0.1):\n",
    "    \"\"\"the fraction of words assigned to _topic_\n",
    "    that equal _word_ (plus some smoothing)\"\"\"\n",
    "\n",
    "    return ((topic_word_counts[topic][word] + beta) /\n",
    "            (topic_counts[topic] + W * beta))\n",
    "\n",
    "def topic_weight(d, word, k):\n",
    "    \"\"\"given a document and a word in that document,\n",
    "    return the weight for the k-th topic\"\"\"\n",
    "\n",
    "    return p_word_given_topic(word, k) * p_topic_given_document(k, d)\n",
    "\n",
    "def choose_new_topic(d, word):\n",
    "    return sample_from([topic_weight(d, word, k)\n",
    "                        for k in range(K)])"
   ]
  },
  {
   "cell_type": "code",
   "execution_count": 33,
   "metadata": {
    "collapsed": true
   },
   "outputs": [],
   "source": [
    "random.seed(0)\n",
    "document_topics = [[random.randrange(K) for word in document]\n",
    "                   for document in documents]"
   ]
  },
  {
   "cell_type": "code",
   "execution_count": 86,
   "metadata": {},
   "outputs": [
    {
     "data": {
      "text/plain": [
       "[[0, 0, 2, 0, 2, 0, 2],\n",
       " [2, 2, 2, 2, 2],\n",
       " [1, 3, 1, 1, 1, 1],\n",
       " [1, 1, 1, 3, 1],\n",
       " [3, 3, 3, 3],\n",
       " [3, 1, 0, 0, 0, 0],\n",
       " [1, 1, 1, 1],\n",
       " [3, 3, 3, 3],\n",
       " [0, 0, 0, 0],\n",
       " [0, 0, 0, 0],\n",
       " [1, 1, 1],\n",
       " [0, 0, 0, 3],\n",
       " [1, 1, 1],\n",
       " [3, 2, 2, 2, 2],\n",
       " [3, 3, 3]]"
      ]
     },
     "execution_count": 86,
     "metadata": {},
     "output_type": "execute_result"
    }
   ],
   "source": [
    "document_topics"
   ]
  },
  {
   "cell_type": "code",
   "execution_count": 35,
   "metadata": {
    "collapsed": true
   },
   "outputs": [],
   "source": [
    "for d in range(D):\n",
    "    for word, topic in zip(documents[d], document_topics[d]):\n",
    "        document_topic_counts[d][topic] += 1\n",
    "        topic_word_counts[topic][word] += 1\n",
    "        topic_counts[topic] += 1"
   ]
  },
  {
   "cell_type": "code",
   "execution_count": 36,
   "metadata": {},
   "outputs": [
    {
     "data": {
      "text/plain": [
       "[Counter({1: 3, 2: 1, 3: 3}),\n",
       " Counter({1: 2, 2: 2, 3: 1}),\n",
       " Counter({1: 2, 2: 1, 3: 3}),\n",
       " Counter({1: 1, 2: 1, 3: 3}),\n",
       " Counter({0: 1, 1: 2, 2: 1}),\n",
       " Counter({1: 2, 2: 1, 3: 3}),\n",
       " Counter({0: 1, 2: 2, 3: 1}),\n",
       " Counter({0: 1, 1: 1, 2: 1, 3: 1}),\n",
       " Counter({0: 1, 1: 2, 3: 1}),\n",
       " Counter({0: 2, 2: 1, 3: 1}),\n",
       " Counter({1: 1, 3: 2}),\n",
       " Counter({0: 1, 1: 1, 2: 1, 3: 1}),\n",
       " Counter({0: 1, 2: 2}),\n",
       " Counter({2: 3, 3: 2}),\n",
       " Counter({1: 1, 2: 2})]"
      ]
     },
     "execution_count": 36,
     "metadata": {},
     "output_type": "execute_result"
    }
   ],
   "source": [
    "document_topic_counts"
   ]
  },
  {
   "cell_type": "code",
   "execution_count": 37,
   "metadata": {},
   "outputs": [
    {
     "data": {
      "text/plain": [
       "[Counter({'Big Data': 2,\n",
       "          'C++': 1,\n",
       "          'Java': 1,\n",
       "          'decision trees': 1,\n",
       "          'mathematics': 1,\n",
       "          'neural networks': 1,\n",
       "          'pandas': 1}),\n",
       " Counter({'C++': 1,\n",
       "          'HBase': 1,\n",
       "          'Java': 1,\n",
       "          'MongoDB': 1,\n",
       "          'NoSQL': 1,\n",
       "          'Python': 1,\n",
       "          'Storm': 1,\n",
       "          'artificial intelligence': 1,\n",
       "          'deep learning': 1,\n",
       "          'libsvm': 1,\n",
       "          'machine learning': 1,\n",
       "          'neural networks': 1,\n",
       "          'numpy': 1,\n",
       "          'programming languages': 1,\n",
       "          'regression': 2,\n",
       "          'statistics': 1,\n",
       "          'statsmodels': 1}),\n",
       " Counter({'Cassandra': 1,\n",
       "          'Mahout': 1,\n",
       "          'MapReduce': 1,\n",
       "          'MongoDB': 1,\n",
       "          'Postgres': 2,\n",
       "          'Python': 2,\n",
       "          'R': 1,\n",
       "          'Spark': 1,\n",
       "          'artificial intelligence': 1,\n",
       "          'databases': 1,\n",
       "          'libsvm': 1,\n",
       "          'machine learning': 1,\n",
       "          'probability': 1,\n",
       "          'regression': 1,\n",
       "          'scipy': 1,\n",
       "          'support vector machines': 1,\n",
       "          'theory': 1}),\n",
       " Counter({'Big Data': 1,\n",
       "          'Cassandra': 1,\n",
       "          'HBase': 2,\n",
       "          'Hadoop': 2,\n",
       "          'Haskell': 1,\n",
       "          'Java': 1,\n",
       "          'MySQL': 1,\n",
       "          'Python': 1,\n",
       "          'R': 3,\n",
       "          'deep learning': 1,\n",
       "          'pandas': 1,\n",
       "          'probability': 2,\n",
       "          'scikit-learn': 2,\n",
       "          'statistics': 2,\n",
       "          'statsmodels': 1})]"
      ]
     },
     "execution_count": 37,
     "metadata": {},
     "output_type": "execute_result"
    }
   ],
   "source": [
    "topic_word_counts"
   ]
  },
  {
   "cell_type": "code",
   "execution_count": 38,
   "metadata": {},
   "outputs": [
    {
     "data": {
      "text/plain": [
       "[8, 18, 19, 22]"
      ]
     },
     "execution_count": 38,
     "metadata": {},
     "output_type": "execute_result"
    }
   ],
   "source": [
    "topic_counts"
   ]
  },
  {
   "cell_type": "code",
   "execution_count": 39,
   "metadata": {
    "collapsed": true
   },
   "outputs": [],
   "source": [
    "for iter in range(1000):\n",
    "    for d in range(D):\n",
    "        for i, (word, topic) in enumerate(zip(documents[d],\n",
    "                                              document_topics[d])):\n",
    "\n",
    "            # remove this word / topic from the counts\n",
    "            # so that it doesn't influence the weights\n",
    "            document_topic_counts[d][topic] -= 1\n",
    "            topic_word_counts[topic][word] -= 1\n",
    "            topic_counts[topic] -= 1\n",
    "            document_lengths[d] -= 1\n",
    "\n",
    "            # choose a new topic based on the weights\n",
    "            new_topic = choose_new_topic(d, word)\n",
    "            document_topics[d][i] = new_topic\n",
    "\n",
    "            # and now add it back to the counts\n",
    "            document_topic_counts[d][new_topic] += 1\n",
    "            topic_word_counts[new_topic][word] += 1\n",
    "            topic_counts[new_topic] += 1\n",
    "            document_lengths[d] += 1"
   ]
  },
  {
   "cell_type": "code",
   "execution_count": 40,
   "metadata": {},
   "outputs": [
    {
     "data": {
      "text/plain": [
       "[Counter({0: 4, 1: 0, 2: 3, 3: 0}),\n",
       " Counter({0: 0, 1: 0, 2: 5, 3: 0}),\n",
       " Counter({0: 0, 1: 5, 2: 0, 3: 1}),\n",
       " Counter({0: 0, 1: 4, 2: 0, 3: 1}),\n",
       " Counter({0: 0, 1: 0, 2: 0, 3: 4}),\n",
       " Counter({0: 4, 1: 1, 2: 0, 3: 1}),\n",
       " Counter({0: 0, 1: 4, 2: 0, 3: 0}),\n",
       " Counter({0: 0, 1: 0, 2: 0, 3: 4}),\n",
       " Counter({0: 4, 1: 0, 2: 0, 3: 0}),\n",
       " Counter({0: 4, 1: 0, 2: 0, 3: 0}),\n",
       " Counter({0: 0, 1: 3, 2: 0, 3: 0}),\n",
       " Counter({0: 3, 1: 0, 2: 0, 3: 1}),\n",
       " Counter({0: 0, 1: 3, 2: 0, 3: 0}),\n",
       " Counter({0: 0, 1: 0, 2: 4, 3: 1}),\n",
       " Counter({0: 0, 1: 0, 2: 0, 3: 3})]"
      ]
     },
     "execution_count": 40,
     "metadata": {},
     "output_type": "execute_result"
    }
   ],
   "source": [
    "document_topic_counts"
   ]
  },
  {
   "cell_type": "code",
   "execution_count": 41,
   "metadata": {},
   "outputs": [
    {
     "data": {
      "text/plain": [
       "[Counter({'Big Data': 3,\n",
       "          'C++': 2,\n",
       "          'Cassandra': 0,\n",
       "          'HBase': 0,\n",
       "          'Hadoop': 2,\n",
       "          'Haskell': 1,\n",
       "          'Java': 3,\n",
       "          'Mahout': 0,\n",
       "          'MapReduce': 1,\n",
       "          'MongoDB': 0,\n",
       "          'MySQL': 0,\n",
       "          'NoSQL': 0,\n",
       "          'Postgres': 0,\n",
       "          'Python': 0,\n",
       "          'R': 0,\n",
       "          'Spark': 0,\n",
       "          'Storm': 1,\n",
       "          'artificial intelligence': 2,\n",
       "          'databases': 0,\n",
       "          'decision trees': 0,\n",
       "          'deep learning': 2,\n",
       "          'libsvm': 0,\n",
       "          'machine learning': 0,\n",
       "          'mathematics': 0,\n",
       "          'neural networks': 1,\n",
       "          'numpy': 0,\n",
       "          'pandas': 0,\n",
       "          'probability': 0,\n",
       "          'programming languages': 1,\n",
       "          'regression': 0,\n",
       "          'scikit-learn': 0,\n",
       "          'scipy': 0,\n",
       "          'statistics': 0,\n",
       "          'statsmodels': 0,\n",
       "          'support vector machines': 0,\n",
       "          'theory': 0}),\n",
       " Counter({'Big Data': 0,\n",
       "          'C++': 0,\n",
       "          'Cassandra': 0,\n",
       "          'HBase': 0,\n",
       "          'Hadoop': 0,\n",
       "          'Haskell': 0,\n",
       "          'Java': 0,\n",
       "          'Mahout': 0,\n",
       "          'MapReduce': 0,\n",
       "          'MongoDB': 0,\n",
       "          'MySQL': 0,\n",
       "          'NoSQL': 0,\n",
       "          'Postgres': 0,\n",
       "          'Python': 3,\n",
       "          'R': 4,\n",
       "          'Spark': 0,\n",
       "          'Storm': 0,\n",
       "          'artificial intelligence': 0,\n",
       "          'databases': 0,\n",
       "          'decision trees': 0,\n",
       "          'deep learning': 0,\n",
       "          'libsvm': 0,\n",
       "          'machine learning': 0,\n",
       "          'mathematics': 1,\n",
       "          'neural networks': 0,\n",
       "          'numpy': 1,\n",
       "          'pandas': 2,\n",
       "          'probability': 2,\n",
       "          'programming languages': 0,\n",
       "          'regression': 0,\n",
       "          'scikit-learn': 0,\n",
       "          'scipy': 1,\n",
       "          'statistics': 3,\n",
       "          'statsmodels': 2,\n",
       "          'support vector machines': 0,\n",
       "          'theory': 1}),\n",
       " Counter({'Big Data': 0,\n",
       "          'C++': 0,\n",
       "          'Cassandra': 2,\n",
       "          'HBase': 3,\n",
       "          'Hadoop': 0,\n",
       "          'Haskell': 0,\n",
       "          'Java': 0,\n",
       "          'Mahout': 0,\n",
       "          'MapReduce': 0,\n",
       "          'MongoDB': 2,\n",
       "          'MySQL': 1,\n",
       "          'NoSQL': 1,\n",
       "          'Postgres': 2,\n",
       "          'Python': 0,\n",
       "          'R': 0,\n",
       "          'Spark': 1,\n",
       "          'Storm': 0,\n",
       "          'artificial intelligence': 0,\n",
       "          'databases': 0,\n",
       "          'decision trees': 0,\n",
       "          'deep learning': 0,\n",
       "          'libsvm': 0,\n",
       "          'machine learning': 0,\n",
       "          'mathematics': 0,\n",
       "          'neural networks': 0,\n",
       "          'numpy': 0,\n",
       "          'pandas': 0,\n",
       "          'probability': 0,\n",
       "          'programming languages': 0,\n",
       "          'regression': 0,\n",
       "          'scikit-learn': 0,\n",
       "          'scipy': 0,\n",
       "          'statistics': 0,\n",
       "          'statsmodels': 0,\n",
       "          'support vector machines': 0,\n",
       "          'theory': 0}),\n",
       " Counter({'Big Data': 0,\n",
       "          'C++': 0,\n",
       "          'Cassandra': 0,\n",
       "          'HBase': 0,\n",
       "          'Hadoop': 0,\n",
       "          'Haskell': 0,\n",
       "          'Java': 0,\n",
       "          'Mahout': 1,\n",
       "          'MapReduce': 0,\n",
       "          'MongoDB': 0,\n",
       "          'MySQL': 0,\n",
       "          'NoSQL': 0,\n",
       "          'Postgres': 0,\n",
       "          'Python': 1,\n",
       "          'R': 0,\n",
       "          'Spark': 0,\n",
       "          'Storm': 0,\n",
       "          'artificial intelligence': 0,\n",
       "          'databases': 1,\n",
       "          'decision trees': 1,\n",
       "          'deep learning': 0,\n",
       "          'libsvm': 2,\n",
       "          'machine learning': 2,\n",
       "          'mathematics': 0,\n",
       "          'neural networks': 1,\n",
       "          'numpy': 0,\n",
       "          'pandas': 0,\n",
       "          'probability': 1,\n",
       "          'programming languages': 0,\n",
       "          'regression': 3,\n",
       "          'scikit-learn': 2,\n",
       "          'scipy': 0,\n",
       "          'statistics': 0,\n",
       "          'statsmodels': 0,\n",
       "          'support vector machines': 1,\n",
       "          'theory': 0})]"
      ]
     },
     "execution_count": 41,
     "metadata": {},
     "output_type": "execute_result"
    }
   ],
   "source": [
    "topic_word_counts"
   ]
  },
  {
   "cell_type": "code",
   "execution_count": 42,
   "metadata": {},
   "outputs": [
    {
     "data": {
      "text/plain": [
       "[19, 20, 12, 16]"
      ]
     },
     "execution_count": 42,
     "metadata": {},
     "output_type": "execute_result"
    }
   ],
   "source": [
    "topic_counts"
   ]
  },
  {
   "cell_type": "code",
   "execution_count": 43,
   "metadata": {},
   "outputs": [
    {
     "data": {
      "text/plain": [
       "[7, 5, 6, 5, 4, 6, 4, 4, 4, 4, 3, 4, 3, 5, 3]"
      ]
     },
     "execution_count": 43,
     "metadata": {},
     "output_type": "execute_result"
    }
   ],
   "source": [
    "document_lengths"
   ]
  },
  {
   "cell_type": "code",
   "execution_count": 44,
   "metadata": {},
   "outputs": [
    {
     "name": "stdout",
     "output_type": "stream",
     "text": [
      "(0, 'Java', 3)\n",
      "(0, 'Big Data', 3)\n",
      "(0, 'Hadoop', 2)\n",
      "(0, 'deep learning', 2)\n",
      "(0, 'artificial intelligence', 2)\n",
      "(0, 'C++', 2)\n",
      "(0, 'neural networks', 1)\n",
      "(0, 'Storm', 1)\n",
      "(0, 'programming languages', 1)\n",
      "(0, 'MapReduce', 1)\n",
      "(0, 'Haskell', 1)\n",
      "(1, 'R', 4)\n",
      "(1, 'statistics', 3)\n",
      "(1, 'Python', 3)\n",
      "(1, 'probability', 2)\n",
      "(1, 'pandas', 2)\n",
      "(1, 'statsmodels', 2)\n",
      "(1, 'mathematics', 1)\n",
      "(1, 'numpy', 1)\n",
      "(1, 'theory', 1)\n",
      "(1, 'scipy', 1)\n",
      "(2, 'HBase', 3)\n",
      "(2, 'Postgres', 2)\n",
      "(2, 'MongoDB', 2)\n",
      "(2, 'Cassandra', 2)\n",
      "(2, 'NoSQL', 1)\n",
      "(2, 'MySQL', 1)\n",
      "(2, 'Spark', 1)\n",
      "(3, 'regression', 3)\n",
      "(3, 'libsvm', 2)\n",
      "(3, 'scikit-learn', 2)\n",
      "(3, 'machine learning', 2)\n",
      "(3, 'neural networks', 1)\n",
      "(3, 'probability', 1)\n",
      "(3, 'Mahout', 1)\n",
      "(3, 'Python', 1)\n",
      "(3, 'decision trees', 1)\n",
      "(3, 'databases', 1)\n",
      "(3, 'support vector machines', 1)\n"
     ]
    }
   ],
   "source": [
    "# topic MODELING\n",
    "\n",
    "for k, word_counts in enumerate(topic_word_counts):\n",
    "    for word, count in word_counts.most_common():\n",
    "        if count > 0: print(k, word, count)"
   ]
  },
  {
   "cell_type": "code",
   "execution_count": 45,
   "metadata": {},
   "outputs": [
    {
     "name": "stdout",
     "output_type": "stream",
     "text": [
      "['Hadoop', 'Big Data', 'HBase', 'Java', 'Spark', 'Storm', 'Cassandra']\n",
      "('Big Data and programming languages', 4)\n",
      "('machine learning', 3)\n",
      "()\n",
      "['NoSQL', 'MongoDB', 'Cassandra', 'HBase', 'Postgres']\n",
      "('machine learning', 5)\n",
      "()\n",
      "['Python', 'scikit-learn', 'scipy', 'numpy', 'statsmodels', 'pandas']\n",
      "('databases', 5)\n",
      "('statistics', 1)\n",
      "()\n",
      "['R', 'Python', 'statistics', 'regression', 'probability']\n",
      "('databases', 4)\n",
      "('statistics', 1)\n",
      "()\n",
      "['machine learning', 'regression', 'decision trees', 'libsvm']\n",
      "('statistics', 4)\n",
      "()\n",
      "['Python', 'R', 'Java', 'C++', 'Haskell', 'programming languages']\n",
      "('Big Data and programming languages', 4)\n",
      "('databases', 1)\n",
      "('statistics', 1)\n",
      "()\n",
      "['statistics', 'probability', 'mathematics', 'theory']\n",
      "('databases', 4)\n",
      "()\n",
      "['machine learning', 'scikit-learn', 'Mahout', 'neural networks']\n",
      "('statistics', 4)\n",
      "()\n",
      "['neural networks', 'deep learning', 'Big Data', 'artificial intelligence']\n",
      "('Big Data and programming languages', 4)\n",
      "()\n",
      "['Hadoop', 'Java', 'MapReduce', 'Big Data']\n",
      "('Big Data and programming languages', 4)\n",
      "()\n",
      "['statistics', 'R', 'statsmodels']\n",
      "('databases', 3)\n",
      "()\n",
      "['C++', 'deep learning', 'artificial intelligence', 'probability']\n",
      "('Big Data and programming languages', 3)\n",
      "('statistics', 1)\n",
      "()\n",
      "['pandas', 'R', 'Python']\n",
      "('databases', 3)\n",
      "()\n",
      "['databases', 'HBase', 'Postgres', 'MySQL', 'MongoDB']\n",
      "('machine learning', 4)\n",
      "('statistics', 1)\n",
      "()\n",
      "['libsvm', 'regression', 'support vector machines']\n",
      "('statistics', 3)\n",
      "()\n"
     ]
    }
   ],
   "source": [
    "\n",
    "topic_names = [\"Big Data and programming languages\",\n",
    "               \"databases\",\n",
    "               \"machine learning\",\n",
    "               \"statistics\"]\n",
    "\n",
    "for document, topic_counts in zip(documents, document_topic_counts):\n",
    "    print(document)\n",
    "    for topic, count in topic_counts.most_common():\n",
    "        if count > 0:\n",
    "            print(topic_names[topic], count)\n",
    "    print()"
   ]
  },
  {
   "cell_type": "code",
   "execution_count": null,
   "metadata": {
    "collapsed": true
   },
   "outputs": [],
   "source": []
  },
  {
   "cell_type": "code",
   "execution_count": null,
   "metadata": {
    "collapsed": true
   },
   "outputs": [],
   "source": [
    "\n"
   ]
  }
 ],
 "metadata": {
  "kernelspec": {
   "display_name": "Python 2",
   "language": "python",
   "name": "python2"
  },
  "language_info": {
   "codemirror_mode": {
    "name": "ipython",
    "version": 2
   },
   "file_extension": ".py",
   "mimetype": "text/x-python",
   "name": "python",
   "nbconvert_exporter": "python",
   "pygments_lexer": "ipython2",
   "version": "2.7.13"
  }
 },
 "nbformat": 4,
 "nbformat_minor": 2
}
