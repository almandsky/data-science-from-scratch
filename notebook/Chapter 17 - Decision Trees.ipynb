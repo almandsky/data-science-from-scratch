{
 "cells": [
  {
   "cell_type": "markdown",
   "metadata": {},
   "source": [
    "# Import Dependencies"
   ]
  },
  {
   "cell_type": "code",
   "execution_count": 2,
   "metadata": {
    "collapsed": true
   },
   "outputs": [],
   "source": [
    "from collections import Counter, defaultdict\n",
    "from functools import partial\n",
    "import math, random"
   ]
  },
  {
   "cell_type": "markdown",
   "metadata": {},
   "source": [
    "# Entropy"
   ]
  },
  {
   "cell_type": "code",
   "execution_count": 3,
   "metadata": {
    "collapsed": true
   },
   "outputs": [],
   "source": [
    "def entropy(class_probabilities):\n",
    "    \"\"\"given a list of class probabilities, compute the entropy\"\"\"\n",
    "    return sum(-p * math.log(p, 2) for p in class_probabilities if p)\n",
    "\n",
    "def class_probabilities(labels):\n",
    "    total_count = len(labels)\n",
    "    return [count / total_count\n",
    "            for count in Counter(labels).values()]\n",
    "\n",
    "def data_entropy(labeled_data):\n",
    "    labels = [label for _, label in labeled_data]\n",
    "    probabilities = class_probabilities(labels)\n",
    "    return entropy(probabilities)\n",
    "\n",
    "def partition_entropy(subsets):\n",
    "    \"\"\"find the entropy from this partition of data into subsets\"\"\"\n",
    "    total_count = sum(len(subset) for subset in subsets)\n",
    "\n",
    "    return sum( data_entropy(subset) * len(subset) / total_count\n",
    "                for subset in subsets )\n",
    "\n",
    "def group_by(items, key_fn):\n",
    "    \"\"\"returns a defaultdict(list), where each input item\n",
    "    is in the list whose key is key_fn(item)\"\"\"\n",
    "    groups = defaultdict(list)\n",
    "    for item in items:\n",
    "        key = key_fn(item)\n",
    "        groups[key].append(item)\n",
    "    return groups\n",
    "\n",
    "def partition_by(inputs, attribute):\n",
    "    \"\"\"returns a dict of inputs partitioned by the attribute\n",
    "    each input is a pair (attribute_dict, label)\"\"\"\n",
    "    return group_by(inputs, lambda x: x[0][attribute])\n",
    "\n",
    "def partition_entropy_by(inputs,attribute):\n",
    "    \"\"\"computes the entropy corresponding to the given partition\"\"\"\n",
    "    partitions = partition_by(inputs, attribute)\n",
    "    return partition_entropy(partitions.values())\n",
    "\n",
    "def classify(tree, input):\n",
    "    \"\"\"classify the input using the given decision tree\"\"\"\n",
    "\n",
    "    # if this is a leaf node, return its value\n",
    "    if tree in [True, False]:\n",
    "        return tree\n",
    "\n",
    "    # otherwise find the correct subtree\n",
    "    attribute, subtree_dict = tree\n",
    "\n",
    "    subtree_key = input.get(attribute)  # None if input is missing attribute\n",
    "\n",
    "    if subtree_key not in subtree_dict: # if no subtree for key,\n",
    "        subtree_key = None              # we'll use the None subtree\n",
    "\n",
    "    subtree = subtree_dict[subtree_key] # choose the appropriate subtree\n",
    "    return classify(subtree, input)     # and use it to classify the input\n",
    "\n",
    "def build_tree_id3(inputs, split_candidates=None):\n",
    "\n",
    "    # if this is our first pass,\n",
    "    # all keys of the first input are split candidates\n",
    "    if split_candidates is None:\n",
    "        split_candidates = inputs[0][0].keys()\n",
    "\n",
    "    # count Trues and Falses in the inputs\n",
    "    num_inputs = len(inputs)\n",
    "    num_trues = len([label for item, label in inputs if label])\n",
    "    num_falses = num_inputs - num_trues\n",
    "\n",
    "    if num_trues == 0:                  # if only Falses are left\n",
    "        return False                    # return a \"False\" leaf\n",
    "\n",
    "    if num_falses == 0:                 # if only Trues are left\n",
    "        return True                     # return a \"True\" leaf\n",
    "\n",
    "    if not split_candidates:            # if no split candidates left\n",
    "        return num_trues >= num_falses  # return the majority leaf\n",
    "\n",
    "    # otherwise, split on the best attribute\n",
    "    best_attribute = min(split_candidates,\n",
    "        key=partial(partition_entropy_by, inputs))\n",
    "\n",
    "    partitions = partition_by(inputs, best_attribute)\n",
    "    new_candidates = [a for a in split_candidates\n",
    "                      if a != best_attribute]\n",
    "\n",
    "    # recursively build the subtrees\n",
    "    subtrees = { attribute : build_tree_id3(subset, new_candidates)\n",
    "                 for attribute, subset in partitions.items() }\n",
    "\n",
    "    subtrees[None] = num_trues > num_falses # default case\n",
    "\n",
    "    return (best_attribute, subtrees)\n"
   ]
  },
  {
   "cell_type": "code",
   "execution_count": 4,
   "metadata": {},
   "outputs": [
    {
     "name": "stdout",
     "output_type": "stream",
     "text": [
      "('level', 0.0)\n",
      "('lang', 0)\n",
      "('tweets', 0)\n",
      "('phd', 0)\n",
      "()\n",
      "('lang', 0.0)\n",
      "('tweets', 0.0)\n",
      "('phd', 0)\n",
      "()\n",
      "building the tree\n",
      "('lang', {'Python': ('tweets', {None: True, 'yes': True, 'no': ('phd', {None: True, 'yes': ('level', {None: False, 'Mid': True, 'Junior': False}), 'no': ('level', {None: True, 'Senior': False, 'Mid': True, 'Junior': True})})}), None: True, 'R': ('tweets', {None: True, 'yes': ('phd', {None: True, 'yes': ('level', {None: False, 'Junior': False, 'Mid': True}), 'no': True})}), 'Java': ('tweets', {None: False, 'yes': True, 'no': False})})\n"
     ]
    }
   ],
   "source": [
    "inputs = [\n",
    "    ({'level':'Senior','lang':'Java','tweets':'no','phd':'no'},   False),\n",
    "    ({'level':'Senior','lang':'Java','tweets':'no','phd':'yes'},  False),\n",
    "    ({'level':'Mid','lang':'Python','tweets':'no','phd':'no'},     True),\n",
    "    ({'level':'Junior','lang':'Python','tweets':'no','phd':'no'},  True),\n",
    "    ({'level':'Junior','lang':'R','tweets':'yes','phd':'no'},      True),\n",
    "    ({'level':'Junior','lang':'R','tweets':'yes','phd':'yes'},    False),\n",
    "    ({'level':'Mid','lang':'R','tweets':'yes','phd':'yes'},        True),\n",
    "    ({'level':'Senior','lang':'Python','tweets':'no','phd':'no'}, False),\n",
    "    ({'level':'Senior','lang':'R','tweets':'yes','phd':'no'},      True),\n",
    "    ({'level':'Junior','lang':'Python','tweets':'yes','phd':'no'}, True),\n",
    "    ({'level':'Senior','lang':'Python','tweets':'yes','phd':'yes'},True),\n",
    "    ({'level':'Mid','lang':'Python','tweets':'no','phd':'yes'},    True),\n",
    "    ({'level':'Mid','lang':'Java','tweets':'yes','phd':'no'},      True),\n",
    "    ({'level':'Junior','lang':'Python','tweets':'no','phd':'yes'},False)\n",
    "]\n",
    "\n",
    "for key in ['level','lang','tweets','phd']:\n",
    "    print(key, partition_entropy_by(inputs, key))\n",
    "print()\n",
    "\n",
    "senior_inputs = [(input, label)\n",
    "                 for input, label in inputs if input[\"level\"] == \"Senior\"]\n",
    "\n",
    "for key in ['lang', 'tweets', 'phd']:\n",
    "    print(key, partition_entropy_by(senior_inputs, key))\n",
    "print()\n",
    "\n",
    "print(\"building the tree\")\n",
    "tree = build_tree_id3(inputs)\n",
    "print(tree)"
   ]
  },
  {
   "cell_type": "code",
   "execution_count": 5,
   "metadata": {},
   "outputs": [
    {
     "name": "stdout",
     "output_type": "stream",
     "text": [
      "('Junior / Java / tweets / no phd', True)\n",
      "('Junior / Java / tweets / phd', True)\n",
      "('Intern', True)\n",
      "('Senior', True)\n"
     ]
    }
   ],
   "source": [
    "\n",
    "print(\"Junior / Java / tweets / no phd\", classify(tree,\n",
    "    { \"level\" : \"Junior\",\n",
    "      \"lang\" : \"Java\",\n",
    "      \"tweets\" : \"yes\",\n",
    "      \"phd\" : \"no\"} ))\n",
    "\n",
    "print(\"Junior / Java / tweets / phd\", classify(tree,\n",
    "    { \"level\" : \"Junior\",\n",
    "             \"lang\" : \"Java\",\n",
    "             \"tweets\" : \"yes\",\n",
    "             \"phd\" : \"yes\"} ))\n",
    "\n",
    "print(\"Intern\", classify(tree, { \"level\" : \"Intern\" } ))\n",
    "print(\"Senior\", classify(tree, { \"level\" : \"Senior\" } ))"
   ]
  },
  {
   "cell_type": "markdown",
   "metadata": {},
   "source": [
    "# Random Forests"
   ]
  },
  {
   "cell_type": "code",
   "execution_count": 6,
   "metadata": {
    "collapsed": true
   },
   "outputs": [],
   "source": [
    "def forest_classify(trees, input):\n",
    "    votes = [classify(tree, input) for tree in trees]\n",
    "    vote_counts = Counter(votes)\n",
    "    return vote_counts.most_common(1)[0][0]\n"
   ]
  },
  {
   "cell_type": "code",
   "execution_count": 7,
   "metadata": {
    "collapsed": true
   },
   "outputs": [],
   "source": [
    "from sklearn import tree\n",
    "X = [[0, 0], [1, 1]]\n",
    "Y = [0, 1]\n",
    "clf = tree.DecisionTreeClassifier()\n",
    "clf = clf.fit(X, Y)"
   ]
  },
  {
   "cell_type": "code",
   "execution_count": 8,
   "metadata": {},
   "outputs": [
    {
     "data": {
      "text/plain": [
       "array([1])"
      ]
     },
     "execution_count": 8,
     "metadata": {},
     "output_type": "execute_result"
    }
   ],
   "source": [
    "clf.predict([[2., 2.]])"
   ]
  },
  {
   "cell_type": "code",
   "execution_count": 9,
   "metadata": {},
   "outputs": [
    {
     "data": {
      "text/plain": [
       "array([[ 0.,  1.]])"
      ]
     },
     "execution_count": 9,
     "metadata": {},
     "output_type": "execute_result"
    }
   ],
   "source": [
    "clf.predict_proba([[2., 2.]])"
   ]
  },
  {
   "cell_type": "code",
   "execution_count": 10,
   "metadata": {
    "collapsed": true
   },
   "outputs": [],
   "source": [
    "from sklearn.datasets import load_iris\n",
    "from sklearn import tree\n",
    "iris = load_iris()\n",
    "clf = tree.DecisionTreeClassifier()\n",
    "clf = clf.fit(iris.data, iris.target)"
   ]
  },
  {
   "cell_type": "code",
   "execution_count": 12,
   "metadata": {},
   "outputs": [
    {
     "data": {
      "text/plain": [
       "'iris.pdf'"
      ]
     },
     "execution_count": 12,
     "metadata": {},
     "output_type": "execute_result"
    }
   ],
   "source": [
    "import graphviz \n",
    "dot_data = tree.export_graphviz(clf, out_file=None) \n",
    "graph = graphviz.Source(dot_data) \n",
    "graph.render(\"iris\") "
   ]
  },
  {
   "cell_type": "code",
   "execution_count": 13,
   "metadata": {},
   "outputs": [
    {
     "data": {
      "image/svg+xml": [
       "<?xml version=\"1.0\" encoding=\"UTF-8\" standalone=\"no\"?>\n",
       "<!DOCTYPE svg PUBLIC \"-//W3C//DTD SVG 1.1//EN\"\n",
       " \"http://www.w3.org/Graphics/SVG/1.1/DTD/svg11.dtd\">\n",
       "<!-- Generated by graphviz version 2.38.0 (20140413.2041)\n",
       " -->\n",
       "<!-- Title: Tree Pages: 1 -->\n",
       "<svg width=\"879pt\" height=\"642pt\"\n",
       " viewBox=\"0.00 0.00 878.83 642.00\" xmlns=\"http://www.w3.org/2000/svg\" xmlns:xlink=\"http://www.w3.org/1999/xlink\">\n",
       "<g id=\"graph0\" class=\"graph\" transform=\"scale(1 1) rotate(0) translate(4 638)\">\n",
       "<title>Tree</title>\n",
       "<polygon fill=\"white\" stroke=\"none\" points=\"-4,4 -4,-638 874.831,-638 874.831,4 -4,4\"/>\n",
       "<!-- 0 -->\n",
       "<g id=\"node1\" class=\"node\"><title>0</title>\n",
       "<path fill=\"none\" stroke=\"black\" d=\"M519.609,-634C519.609,-634 394.146,-634 394.146,-634 388.146,-634 382.146,-628 382.146,-622 382.146,-622 382.146,-568 382.146,-568 382.146,-562 388.146,-556 394.146,-556 394.146,-556 519.609,-556 519.609,-556 525.609,-556 531.609,-562 531.609,-568 531.609,-568 531.609,-622 531.609,-622 531.609,-628 525.609,-634 519.609,-634\"/>\n",
       "<text text-anchor=\"start\" x=\"390.012\" y=\"-618.8\" font-family=\"Helvetica,sans-Serif\" font-size=\"14.00\">petal width (cm) ≤ 0.8</text>\n",
       "<text text-anchor=\"start\" x=\"420.486\" y=\"-604.8\" font-family=\"Helvetica,sans-Serif\" font-size=\"14.00\">gini = 0.667</text>\n",
       "<text text-anchor=\"start\" x=\"411.155\" y=\"-590.8\" font-family=\"Helvetica,sans-Serif\" font-size=\"14.00\">samples = 150</text>\n",
       "<text text-anchor=\"start\" x=\"397.138\" y=\"-576.8\" font-family=\"Helvetica,sans-Serif\" font-size=\"14.00\">value = [50, 50, 50]</text>\n",
       "<text text-anchor=\"start\" x=\"412.328\" y=\"-562.8\" font-family=\"Helvetica,sans-Serif\" font-size=\"14.00\">class = setosa</text>\n",
       "</g>\n",
       "<!-- 1 -->\n",
       "<g id=\"node2\" class=\"node\"><title>1</title>\n",
       "<path fill=\"#e58139\" stroke=\"black\" d=\"M426.784,-513C426.784,-513 330.971,-513 330.971,-513 324.971,-513 318.971,-507 318.971,-501 318.971,-501 318.971,-461 318.971,-461 318.971,-455 324.971,-449 330.971,-449 330.971,-449 426.784,-449 426.784,-449 432.784,-449 438.784,-455 438.784,-461 438.784,-461 438.784,-501 438.784,-501 438.784,-507 432.784,-513 426.784,-513\"/>\n",
       "<text text-anchor=\"start\" x=\"350.272\" y=\"-497.8\" font-family=\"Helvetica,sans-Serif\" font-size=\"14.00\">gini = 0.0</text>\n",
       "<text text-anchor=\"start\" x=\"337.048\" y=\"-483.8\" font-family=\"Helvetica,sans-Serif\" font-size=\"14.00\">samples = 50</text>\n",
       "<text text-anchor=\"start\" x=\"326.924\" y=\"-469.8\" font-family=\"Helvetica,sans-Serif\" font-size=\"14.00\">value = [50, 0, 0]</text>\n",
       "<text text-anchor=\"start\" x=\"334.328\" y=\"-455.8\" font-family=\"Helvetica,sans-Serif\" font-size=\"14.00\">class = setosa</text>\n",
       "</g>\n",
       "<!-- 0&#45;&gt;1 -->\n",
       "<g id=\"edge1\" class=\"edge\"><title>0&#45;&gt;1</title>\n",
       "<path fill=\"none\" stroke=\"black\" d=\"M430.252,-555.769C422.515,-544.66 414.053,-532.509 406.27,-521.333\"/>\n",
       "<polygon fill=\"black\" stroke=\"black\" points=\"409.061,-519.216 400.474,-513.01 403.317,-523.216 409.061,-519.216\"/>\n",
       "<text text-anchor=\"middle\" x=\"396.07\" y=\"-533.419\" font-family=\"Helvetica,sans-Serif\" font-size=\"14.00\">True</text>\n",
       "</g>\n",
       "<!-- 2 -->\n",
       "<g id=\"node3\" class=\"node\"><title>2</title>\n",
       "<path fill=\"none\" stroke=\"black\" d=\"M602.396,-520C602.396,-520 469.359,-520 469.359,-520 463.359,-520 457.359,-514 457.359,-508 457.359,-508 457.359,-454 457.359,-454 457.359,-448 463.359,-442 469.359,-442 469.359,-442 602.396,-442 602.396,-442 608.396,-442 614.396,-448 614.396,-454 614.396,-454 614.396,-508 614.396,-508 614.396,-514 608.396,-520 602.396,-520\"/>\n",
       "<text text-anchor=\"start\" x=\"465.119\" y=\"-504.8\" font-family=\"Helvetica,sans-Serif\" font-size=\"14.00\">petal width (cm) ≤ 1.75</text>\n",
       "<text text-anchor=\"start\" x=\"507.272\" y=\"-490.8\" font-family=\"Helvetica,sans-Serif\" font-size=\"14.00\">gini = 0.5</text>\n",
       "<text text-anchor=\"start\" x=\"490.155\" y=\"-476.8\" font-family=\"Helvetica,sans-Serif\" font-size=\"14.00\">samples = 100</text>\n",
       "<text text-anchor=\"start\" x=\"480.031\" y=\"-462.8\" font-family=\"Helvetica,sans-Serif\" font-size=\"14.00\">value = [0, 50, 50]</text>\n",
       "<text text-anchor=\"start\" x=\"482\" y=\"-448.8\" font-family=\"Helvetica,sans-Serif\" font-size=\"14.00\">class = versicolor</text>\n",
       "</g>\n",
       "<!-- 0&#45;&gt;2 -->\n",
       "<g id=\"edge2\" class=\"edge\"><title>0&#45;&gt;2</title>\n",
       "<path fill=\"none\" stroke=\"black\" d=\"M483.844,-555.769C490.072,-546.939 496.765,-537.451 503.207,-528.318\"/>\n",
       "<polygon fill=\"black\" stroke=\"black\" points=\"506.129,-530.248 509.033,-520.058 500.409,-526.213 506.129,-530.248\"/>\n",
       "<text text-anchor=\"middle\" x=\"513.289\" y=\"-540.494\" font-family=\"Helvetica,sans-Serif\" font-size=\"14.00\">False</text>\n",
       "</g>\n",
       "<!-- 3 -->\n",
       "<g id=\"node4\" class=\"node\"><title>3</title>\n",
       "<path fill=\"#39e581\" fill-opacity=\"0.898039\" stroke=\"black\" d=\"M491.357,-406C491.357,-406 352.398,-406 352.398,-406 346.398,-406 340.398,-400 340.398,-394 340.398,-394 340.398,-340 340.398,-340 340.398,-334 346.398,-328 352.398,-328 352.398,-328 491.357,-328 491.357,-328 497.357,-328 503.357,-334 503.357,-340 503.357,-340 503.357,-394 503.357,-394 503.357,-400 497.357,-406 491.357,-406\"/>\n",
       "<text text-anchor=\"start\" x=\"348.388\" y=\"-390.8\" font-family=\"Helvetica,sans-Serif\" font-size=\"14.00\">petal length (cm) ≤ 4.95</text>\n",
       "<text text-anchor=\"start\" x=\"385.486\" y=\"-376.8\" font-family=\"Helvetica,sans-Serif\" font-size=\"14.00\">gini = 0.168</text>\n",
       "<text text-anchor=\"start\" x=\"380.048\" y=\"-362.8\" font-family=\"Helvetica,sans-Serif\" font-size=\"14.00\">samples = 54</text>\n",
       "<text text-anchor=\"start\" x=\"369.924\" y=\"-348.8\" font-family=\"Helvetica,sans-Serif\" font-size=\"14.00\">value = [0, 49, 5]</text>\n",
       "<text text-anchor=\"start\" x=\"368\" y=\"-334.8\" font-family=\"Helvetica,sans-Serif\" font-size=\"14.00\">class = versicolor</text>\n",
       "</g>\n",
       "<!-- 2&#45;&gt;3 -->\n",
       "<g id=\"edge3\" class=\"edge\"><title>2&#45;&gt;3</title>\n",
       "<path fill=\"none\" stroke=\"black\" d=\"M496.964,-441.769C487.609,-432.579 477.529,-422.676 467.886,-413.201\"/>\n",
       "<polygon fill=\"black\" stroke=\"black\" points=\"470.202,-410.57 460.616,-406.058 465.296,-415.563 470.202,-410.57\"/>\n",
       "</g>\n",
       "<!-- 12 -->\n",
       "<g id=\"node13\" class=\"node\"><title>12</title>\n",
       "<path fill=\"#8139e5\" fill-opacity=\"0.976471\" stroke=\"black\" d=\"M719.357,-406C719.357,-406 580.398,-406 580.398,-406 574.398,-406 568.398,-400 568.398,-394 568.398,-394 568.398,-340 568.398,-340 568.398,-334 574.398,-328 580.398,-328 580.398,-328 719.357,-328 719.357,-328 725.357,-328 731.357,-334 731.357,-340 731.357,-340 731.357,-394 731.357,-394 731.357,-400 725.357,-406 719.357,-406\"/>\n",
       "<text text-anchor=\"start\" x=\"576.388\" y=\"-390.8\" font-family=\"Helvetica,sans-Serif\" font-size=\"14.00\">petal length (cm) ≤ 4.85</text>\n",
       "<text text-anchor=\"start\" x=\"613.486\" y=\"-376.8\" font-family=\"Helvetica,sans-Serif\" font-size=\"14.00\">gini = 0.043</text>\n",
       "<text text-anchor=\"start\" x=\"608.048\" y=\"-362.8\" font-family=\"Helvetica,sans-Serif\" font-size=\"14.00\">samples = 46</text>\n",
       "<text text-anchor=\"start\" x=\"597.924\" y=\"-348.8\" font-family=\"Helvetica,sans-Serif\" font-size=\"14.00\">value = [0, 1, 45]</text>\n",
       "<text text-anchor=\"start\" x=\"600.276\" y=\"-334.8\" font-family=\"Helvetica,sans-Serif\" font-size=\"14.00\">class = virginica</text>\n",
       "</g>\n",
       "<!-- 2&#45;&gt;12 -->\n",
       "<g id=\"edge12\" class=\"edge\"><title>2&#45;&gt;12</title>\n",
       "<path fill=\"none\" stroke=\"black\" d=\"M574.791,-441.769C584.146,-432.579 594.226,-422.676 603.869,-413.201\"/>\n",
       "<polygon fill=\"black\" stroke=\"black\" points=\"606.459,-415.563 611.139,-406.058 601.553,-410.57 606.459,-415.563\"/>\n",
       "</g>\n",
       "<!-- 4 -->\n",
       "<g id=\"node5\" class=\"node\"><title>4</title>\n",
       "<path fill=\"#39e581\" fill-opacity=\"0.980392\" stroke=\"black\" d=\"M265.396,-292C265.396,-292 132.359,-292 132.359,-292 126.359,-292 120.359,-286 120.359,-280 120.359,-280 120.359,-226 120.359,-226 120.359,-220 126.359,-214 132.359,-214 132.359,-214 265.396,-214 265.396,-214 271.396,-214 277.396,-220 277.396,-226 277.396,-226 277.396,-280 277.396,-280 277.396,-286 271.396,-292 265.396,-292\"/>\n",
       "<text text-anchor=\"start\" x=\"128.119\" y=\"-276.8\" font-family=\"Helvetica,sans-Serif\" font-size=\"14.00\">petal width (cm) ≤ 1.65</text>\n",
       "<text text-anchor=\"start\" x=\"162.486\" y=\"-262.8\" font-family=\"Helvetica,sans-Serif\" font-size=\"14.00\">gini = 0.041</text>\n",
       "<text text-anchor=\"start\" x=\"157.048\" y=\"-248.8\" font-family=\"Helvetica,sans-Serif\" font-size=\"14.00\">samples = 48</text>\n",
       "<text text-anchor=\"start\" x=\"146.924\" y=\"-234.8\" font-family=\"Helvetica,sans-Serif\" font-size=\"14.00\">value = [0, 47, 1]</text>\n",
       "<text text-anchor=\"start\" x=\"145\" y=\"-220.8\" font-family=\"Helvetica,sans-Serif\" font-size=\"14.00\">class = versicolor</text>\n",
       "</g>\n",
       "<!-- 3&#45;&gt;4 -->\n",
       "<g id=\"edge4\" class=\"edge\"><title>3&#45;&gt;4</title>\n",
       "<path fill=\"none\" stroke=\"black\" d=\"M346.069,-327.926C326.051,-317.872 304.317,-306.956 283.849,-296.676\"/>\n",
       "<polygon fill=\"black\" stroke=\"black\" points=\"285.362,-293.52 274.855,-292.159 282.221,-299.775 285.362,-293.52\"/>\n",
       "</g>\n",
       "<!-- 7 -->\n",
       "<g id=\"node8\" class=\"node\"><title>7</title>\n",
       "<path fill=\"#8139e5\" fill-opacity=\"0.498039\" stroke=\"black\" d=\"M488.396,-292C488.396,-292 355.359,-292 355.359,-292 349.359,-292 343.359,-286 343.359,-280 343.359,-280 343.359,-226 343.359,-226 343.359,-220 349.359,-214 355.359,-214 355.359,-214 488.396,-214 488.396,-214 494.396,-214 500.396,-220 500.396,-226 500.396,-226 500.396,-280 500.396,-280 500.396,-286 494.396,-292 488.396,-292\"/>\n",
       "<text text-anchor=\"start\" x=\"351.119\" y=\"-276.8\" font-family=\"Helvetica,sans-Serif\" font-size=\"14.00\">petal width (cm) ≤ 1.55</text>\n",
       "<text text-anchor=\"start\" x=\"385.486\" y=\"-262.8\" font-family=\"Helvetica,sans-Serif\" font-size=\"14.00\">gini = 0.444</text>\n",
       "<text text-anchor=\"start\" x=\"383.941\" y=\"-248.8\" font-family=\"Helvetica,sans-Serif\" font-size=\"14.00\">samples = 6</text>\n",
       "<text text-anchor=\"start\" x=\"373.817\" y=\"-234.8\" font-family=\"Helvetica,sans-Serif\" font-size=\"14.00\">value = [0, 2, 4]</text>\n",
       "<text text-anchor=\"start\" x=\"372.276\" y=\"-220.8\" font-family=\"Helvetica,sans-Serif\" font-size=\"14.00\">class = virginica</text>\n",
       "</g>\n",
       "<!-- 3&#45;&gt;7 -->\n",
       "<g id=\"edge7\" class=\"edge\"><title>3&#45;&gt;7</title>\n",
       "<path fill=\"none\" stroke=\"black\" d=\"M421.877,-327.769C421.877,-319.57 421.877,-310.803 421.877,-302.28\"/>\n",
       "<polygon fill=\"black\" stroke=\"black\" points=\"425.378,-302.058 421.877,-292.058 418.378,-302.059 425.378,-302.058\"/>\n",
       "</g>\n",
       "<!-- 5 -->\n",
       "<g id=\"node6\" class=\"node\"><title>5</title>\n",
       "<path fill=\"#39e581\" stroke=\"black\" d=\"M111.633,-171C111.633,-171 12.1223,-171 12.1223,-171 6.12232,-171 0.122316,-165 0.122316,-159 0.122316,-159 0.122316,-119 0.122316,-119 0.122316,-113 6.12232,-107 12.1223,-107 12.1223,-107 111.633,-107 111.633,-107 117.633,-107 123.633,-113 123.633,-119 123.633,-119 123.633,-159 123.633,-159 123.633,-165 117.633,-171 111.633,-171\"/>\n",
       "<text text-anchor=\"start\" x=\"33.2725\" y=\"-155.8\" font-family=\"Helvetica,sans-Serif\" font-size=\"14.00\">gini = 0.0</text>\n",
       "<text text-anchor=\"start\" x=\"20.0483\" y=\"-141.8\" font-family=\"Helvetica,sans-Serif\" font-size=\"14.00\">samples = 47</text>\n",
       "<text text-anchor=\"start\" x=\"9.92432\" y=\"-127.8\" font-family=\"Helvetica,sans-Serif\" font-size=\"14.00\">value = [0, 47, 0]</text>\n",
       "<text text-anchor=\"start\" x=\"8\" y=\"-113.8\" font-family=\"Helvetica,sans-Serif\" font-size=\"14.00\">class = versicolor</text>\n",
       "</g>\n",
       "<!-- 4&#45;&gt;5 -->\n",
       "<g id=\"edge5\" class=\"edge\"><title>4&#45;&gt;5</title>\n",
       "<path fill=\"none\" stroke=\"black\" d=\"M152.113,-213.769C137.724,-202.006 121.908,-189.076 107.591,-177.371\"/>\n",
       "<polygon fill=\"black\" stroke=\"black\" points=\"109.767,-174.63 99.8094,-171.01 105.336,-180.049 109.767,-174.63\"/>\n",
       "</g>\n",
       "<!-- 6 -->\n",
       "<g id=\"node7\" class=\"node\"><title>6</title>\n",
       "<path fill=\"#8139e5\" stroke=\"black\" d=\"M244.581,-171C244.581,-171 153.174,-171 153.174,-171 147.174,-171 141.174,-165 141.174,-159 141.174,-159 141.174,-119 141.174,-119 141.174,-113 147.174,-107 153.174,-107 153.174,-107 244.581,-107 244.581,-107 250.581,-107 256.581,-113 256.581,-119 256.581,-119 256.581,-159 256.581,-159 256.581,-165 250.581,-171 244.581,-171\"/>\n",
       "<text text-anchor=\"start\" x=\"170.272\" y=\"-155.8\" font-family=\"Helvetica,sans-Serif\" font-size=\"14.00\">gini = 0.0</text>\n",
       "<text text-anchor=\"start\" x=\"160.941\" y=\"-141.8\" font-family=\"Helvetica,sans-Serif\" font-size=\"14.00\">samples = 1</text>\n",
       "<text text-anchor=\"start\" x=\"150.817\" y=\"-127.8\" font-family=\"Helvetica,sans-Serif\" font-size=\"14.00\">value = [0, 0, 1]</text>\n",
       "<text text-anchor=\"start\" x=\"149.276\" y=\"-113.8\" font-family=\"Helvetica,sans-Serif\" font-size=\"14.00\">class = virginica</text>\n",
       "</g>\n",
       "<!-- 4&#45;&gt;6 -->\n",
       "<g id=\"edge6\" class=\"edge\"><title>4&#45;&gt;6</title>\n",
       "<path fill=\"none\" stroke=\"black\" d=\"M198.877,-213.769C198.877,-203.313 198.877,-191.935 198.877,-181.315\"/>\n",
       "<polygon fill=\"black\" stroke=\"black\" points=\"202.378,-181.01 198.877,-171.01 195.378,-181.01 202.378,-181.01\"/>\n",
       "</g>\n",
       "<!-- 8 -->\n",
       "<g id=\"node9\" class=\"node\"><title>8</title>\n",
       "<path fill=\"#8139e5\" stroke=\"black\" d=\"M377.581,-171C377.581,-171 286.174,-171 286.174,-171 280.174,-171 274.174,-165 274.174,-159 274.174,-159 274.174,-119 274.174,-119 274.174,-113 280.174,-107 286.174,-107 286.174,-107 377.581,-107 377.581,-107 383.581,-107 389.581,-113 389.581,-119 389.581,-119 389.581,-159 389.581,-159 389.581,-165 383.581,-171 377.581,-171\"/>\n",
       "<text text-anchor=\"start\" x=\"303.272\" y=\"-155.8\" font-family=\"Helvetica,sans-Serif\" font-size=\"14.00\">gini = 0.0</text>\n",
       "<text text-anchor=\"start\" x=\"293.941\" y=\"-141.8\" font-family=\"Helvetica,sans-Serif\" font-size=\"14.00\">samples = 3</text>\n",
       "<text text-anchor=\"start\" x=\"283.817\" y=\"-127.8\" font-family=\"Helvetica,sans-Serif\" font-size=\"14.00\">value = [0, 0, 3]</text>\n",
       "<text text-anchor=\"start\" x=\"282.276\" y=\"-113.8\" font-family=\"Helvetica,sans-Serif\" font-size=\"14.00\">class = virginica</text>\n",
       "</g>\n",
       "<!-- 7&#45;&gt;8 -->\n",
       "<g id=\"edge8\" class=\"edge\"><title>7&#45;&gt;8</title>\n",
       "<path fill=\"none\" stroke=\"black\" d=\"M391.156,-213.769C382.141,-202.551 372.274,-190.271 363.22,-179.005\"/>\n",
       "<polygon fill=\"black\" stroke=\"black\" points=\"365.788,-176.613 356.796,-171.01 360.332,-180.998 365.788,-176.613\"/>\n",
       "</g>\n",
       "<!-- 9 -->\n",
       "<g id=\"node10\" class=\"node\"><title>9</title>\n",
       "<path fill=\"#39e581\" fill-opacity=\"0.498039\" stroke=\"black\" d=\"M558.357,-178C558.357,-178 419.398,-178 419.398,-178 413.398,-178 407.398,-172 407.398,-166 407.398,-166 407.398,-112 407.398,-112 407.398,-106 413.398,-100 419.398,-100 419.398,-100 558.357,-100 558.357,-100 564.357,-100 570.357,-106 570.357,-112 570.357,-112 570.357,-166 570.357,-166 570.357,-172 564.357,-178 558.357,-178\"/>\n",
       "<text text-anchor=\"start\" x=\"415.388\" y=\"-162.8\" font-family=\"Helvetica,sans-Serif\" font-size=\"14.00\">petal length (cm) ≤ 5.45</text>\n",
       "<text text-anchor=\"start\" x=\"452.486\" y=\"-148.8\" font-family=\"Helvetica,sans-Serif\" font-size=\"14.00\">gini = 0.444</text>\n",
       "<text text-anchor=\"start\" x=\"450.941\" y=\"-134.8\" font-family=\"Helvetica,sans-Serif\" font-size=\"14.00\">samples = 3</text>\n",
       "<text text-anchor=\"start\" x=\"440.817\" y=\"-120.8\" font-family=\"Helvetica,sans-Serif\" font-size=\"14.00\">value = [0, 2, 1]</text>\n",
       "<text text-anchor=\"start\" x=\"435\" y=\"-106.8\" font-family=\"Helvetica,sans-Serif\" font-size=\"14.00\">class = versicolor</text>\n",
       "</g>\n",
       "<!-- 7&#45;&gt;9 -->\n",
       "<g id=\"edge9\" class=\"edge\"><title>7&#45;&gt;9</title>\n",
       "<path fill=\"none\" stroke=\"black\" d=\"M444.748,-213.769C449.922,-205.119 455.474,-195.838 460.835,-186.877\"/>\n",
       "<polygon fill=\"black\" stroke=\"black\" points=\"463.98,-188.437 466.11,-178.058 457.973,-184.843 463.98,-188.437\"/>\n",
       "</g>\n",
       "<!-- 10 -->\n",
       "<g id=\"node11\" class=\"node\"><title>10</title>\n",
       "<path fill=\"#39e581\" stroke=\"black\" d=\"M469.633,-64C469.633,-64 370.122,-64 370.122,-64 364.122,-64 358.122,-58 358.122,-52 358.122,-52 358.122,-12 358.122,-12 358.122,-6 364.122,-0 370.122,-0 370.122,-0 469.633,-0 469.633,-0 475.633,-0 481.633,-6 481.633,-12 481.633,-12 481.633,-52 481.633,-52 481.633,-58 475.633,-64 469.633,-64\"/>\n",
       "<text text-anchor=\"start\" x=\"391.272\" y=\"-48.8\" font-family=\"Helvetica,sans-Serif\" font-size=\"14.00\">gini = 0.0</text>\n",
       "<text text-anchor=\"start\" x=\"381.941\" y=\"-34.8\" font-family=\"Helvetica,sans-Serif\" font-size=\"14.00\">samples = 2</text>\n",
       "<text text-anchor=\"start\" x=\"371.817\" y=\"-20.8\" font-family=\"Helvetica,sans-Serif\" font-size=\"14.00\">value = [0, 2, 0]</text>\n",
       "<text text-anchor=\"start\" x=\"366\" y=\"-6.8\" font-family=\"Helvetica,sans-Serif\" font-size=\"14.00\">class = versicolor</text>\n",
       "</g>\n",
       "<!-- 9&#45;&gt;10 -->\n",
       "<g id=\"edge10\" class=\"edge\"><title>9&#45;&gt;10</title>\n",
       "<path fill=\"none\" stroke=\"black\" d=\"M463.772,-99.7956C457.932,-90.9084 451.703,-81.4296 445.827,-72.4883\"/>\n",
       "<polygon fill=\"black\" stroke=\"black\" points=\"448.743,-70.5521 440.326,-64.1172 442.893,-74.3964 448.743,-70.5521\"/>\n",
       "</g>\n",
       "<!-- 11 -->\n",
       "<g id=\"node12\" class=\"node\"><title>11</title>\n",
       "<path fill=\"#8139e5\" stroke=\"black\" d=\"M602.581,-64C602.581,-64 511.174,-64 511.174,-64 505.174,-64 499.174,-58 499.174,-52 499.174,-52 499.174,-12 499.174,-12 499.174,-6 505.174,-0 511.174,-0 511.174,-0 602.581,-0 602.581,-0 608.581,-0 614.581,-6 614.581,-12 614.581,-12 614.581,-52 614.581,-52 614.581,-58 608.581,-64 602.581,-64\"/>\n",
       "<text text-anchor=\"start\" x=\"528.272\" y=\"-48.8\" font-family=\"Helvetica,sans-Serif\" font-size=\"14.00\">gini = 0.0</text>\n",
       "<text text-anchor=\"start\" x=\"518.941\" y=\"-34.8\" font-family=\"Helvetica,sans-Serif\" font-size=\"14.00\">samples = 1</text>\n",
       "<text text-anchor=\"start\" x=\"508.817\" y=\"-20.8\" font-family=\"Helvetica,sans-Serif\" font-size=\"14.00\">value = [0, 0, 1]</text>\n",
       "<text text-anchor=\"start\" x=\"507.276\" y=\"-6.8\" font-family=\"Helvetica,sans-Serif\" font-size=\"14.00\">class = virginica</text>\n",
       "</g>\n",
       "<!-- 9&#45;&gt;11 -->\n",
       "<g id=\"edge11\" class=\"edge\"><title>9&#45;&gt;11</title>\n",
       "<path fill=\"none\" stroke=\"black\" d=\"M513.619,-99.7956C519.316,-91 525.387,-81.625 531.125,-72.765\"/>\n",
       "<polygon fill=\"black\" stroke=\"black\" points=\"534.227,-74.4133 536.725,-64.1172 528.352,-70.6082 534.227,-74.4133\"/>\n",
       "</g>\n",
       "<!-- 13 -->\n",
       "<g id=\"node14\" class=\"node\"><title>13</title>\n",
       "<path fill=\"#8139e5\" fill-opacity=\"0.498039\" stroke=\"black\" d=\"M720.967,-292C720.967,-292 578.788,-292 578.788,-292 572.788,-292 566.788,-286 566.788,-280 566.788,-280 566.788,-226 566.788,-226 566.788,-220 572.788,-214 578.788,-214 578.788,-214 720.967,-214 720.967,-214 726.967,-214 732.967,-220 732.967,-226 732.967,-226 732.967,-280 732.967,-280 732.967,-286 726.967,-292 720.967,-292\"/>\n",
       "<text text-anchor=\"start\" x=\"574.833\" y=\"-276.8\" font-family=\"Helvetica,sans-Serif\" font-size=\"14.00\">sepal length (cm) ≤ 5.95</text>\n",
       "<text text-anchor=\"start\" x=\"613.486\" y=\"-262.8\" font-family=\"Helvetica,sans-Serif\" font-size=\"14.00\">gini = 0.444</text>\n",
       "<text text-anchor=\"start\" x=\"611.941\" y=\"-248.8\" font-family=\"Helvetica,sans-Serif\" font-size=\"14.00\">samples = 3</text>\n",
       "<text text-anchor=\"start\" x=\"601.817\" y=\"-234.8\" font-family=\"Helvetica,sans-Serif\" font-size=\"14.00\">value = [0, 1, 2]</text>\n",
       "<text text-anchor=\"start\" x=\"600.276\" y=\"-220.8\" font-family=\"Helvetica,sans-Serif\" font-size=\"14.00\">class = virginica</text>\n",
       "</g>\n",
       "<!-- 12&#45;&gt;13 -->\n",
       "<g id=\"edge13\" class=\"edge\"><title>12&#45;&gt;13</title>\n",
       "<path fill=\"none\" stroke=\"black\" d=\"M649.877,-327.769C649.877,-319.57 649.877,-310.803 649.877,-302.28\"/>\n",
       "<polygon fill=\"black\" stroke=\"black\" points=\"653.378,-302.058 649.877,-292.058 646.378,-302.059 653.378,-302.058\"/>\n",
       "</g>\n",
       "<!-- 16 -->\n",
       "<g id=\"node17\" class=\"node\"><title>16</title>\n",
       "<path fill=\"#8139e5\" stroke=\"black\" d=\"M858.784,-285C858.784,-285 762.971,-285 762.971,-285 756.971,-285 750.971,-279 750.971,-273 750.971,-273 750.971,-233 750.971,-233 750.971,-227 756.971,-221 762.971,-221 762.971,-221 858.784,-221 858.784,-221 864.784,-221 870.784,-227 870.784,-233 870.784,-233 870.784,-273 870.784,-273 870.784,-279 864.784,-285 858.784,-285\"/>\n",
       "<text text-anchor=\"start\" x=\"782.272\" y=\"-269.8\" font-family=\"Helvetica,sans-Serif\" font-size=\"14.00\">gini = 0.0</text>\n",
       "<text text-anchor=\"start\" x=\"769.048\" y=\"-255.8\" font-family=\"Helvetica,sans-Serif\" font-size=\"14.00\">samples = 43</text>\n",
       "<text text-anchor=\"start\" x=\"758.924\" y=\"-241.8\" font-family=\"Helvetica,sans-Serif\" font-size=\"14.00\">value = [0, 0, 43]</text>\n",
       "<text text-anchor=\"start\" x=\"761.276\" y=\"-227.8\" font-family=\"Helvetica,sans-Serif\" font-size=\"14.00\">class = virginica</text>\n",
       "</g>\n",
       "<!-- 12&#45;&gt;16 -->\n",
       "<g id=\"edge16\" class=\"edge\"><title>12&#45;&gt;16</title>\n",
       "<path fill=\"none\" stroke=\"black\" d=\"M704.834,-327.769C722.057,-315.788 741.02,-302.597 758.089,-290.722\"/>\n",
       "<polygon fill=\"black\" stroke=\"black\" points=\"760.09,-293.594 766.301,-285.01 756.093,-287.848 760.09,-293.594\"/>\n",
       "</g>\n",
       "<!-- 14 -->\n",
       "<g id=\"node15\" class=\"node\"><title>14</title>\n",
       "<path fill=\"#39e581\" stroke=\"black\" d=\"M699.633,-171C699.633,-171 600.122,-171 600.122,-171 594.122,-171 588.122,-165 588.122,-159 588.122,-159 588.122,-119 588.122,-119 588.122,-113 594.122,-107 600.122,-107 600.122,-107 699.633,-107 699.633,-107 705.633,-107 711.633,-113 711.633,-119 711.633,-119 711.633,-159 711.633,-159 711.633,-165 705.633,-171 699.633,-171\"/>\n",
       "<text text-anchor=\"start\" x=\"621.272\" y=\"-155.8\" font-family=\"Helvetica,sans-Serif\" font-size=\"14.00\">gini = 0.0</text>\n",
       "<text text-anchor=\"start\" x=\"611.941\" y=\"-141.8\" font-family=\"Helvetica,sans-Serif\" font-size=\"14.00\">samples = 1</text>\n",
       "<text text-anchor=\"start\" x=\"601.817\" y=\"-127.8\" font-family=\"Helvetica,sans-Serif\" font-size=\"14.00\">value = [0, 1, 0]</text>\n",
       "<text text-anchor=\"start\" x=\"596\" y=\"-113.8\" font-family=\"Helvetica,sans-Serif\" font-size=\"14.00\">class = versicolor</text>\n",
       "</g>\n",
       "<!-- 13&#45;&gt;14 -->\n",
       "<g id=\"edge14\" class=\"edge\"><title>13&#45;&gt;14</title>\n",
       "<path fill=\"none\" stroke=\"black\" d=\"M649.877,-213.769C649.877,-203.313 649.877,-191.935 649.877,-181.315\"/>\n",
       "<polygon fill=\"black\" stroke=\"black\" points=\"653.378,-181.01 649.877,-171.01 646.378,-181.01 653.378,-181.01\"/>\n",
       "</g>\n",
       "<!-- 15 -->\n",
       "<g id=\"node16\" class=\"node\"><title>15</title>\n",
       "<path fill=\"#8139e5\" stroke=\"black\" d=\"M832.581,-171C832.581,-171 741.174,-171 741.174,-171 735.174,-171 729.174,-165 729.174,-159 729.174,-159 729.174,-119 729.174,-119 729.174,-113 735.174,-107 741.174,-107 741.174,-107 832.581,-107 832.581,-107 838.581,-107 844.581,-113 844.581,-119 844.581,-119 844.581,-159 844.581,-159 844.581,-165 838.581,-171 832.581,-171\"/>\n",
       "<text text-anchor=\"start\" x=\"758.272\" y=\"-155.8\" font-family=\"Helvetica,sans-Serif\" font-size=\"14.00\">gini = 0.0</text>\n",
       "<text text-anchor=\"start\" x=\"748.941\" y=\"-141.8\" font-family=\"Helvetica,sans-Serif\" font-size=\"14.00\">samples = 2</text>\n",
       "<text text-anchor=\"start\" x=\"738.817\" y=\"-127.8\" font-family=\"Helvetica,sans-Serif\" font-size=\"14.00\">value = [0, 0, 2]</text>\n",
       "<text text-anchor=\"start\" x=\"737.276\" y=\"-113.8\" font-family=\"Helvetica,sans-Serif\" font-size=\"14.00\">class = virginica</text>\n",
       "</g>\n",
       "<!-- 13&#45;&gt;15 -->\n",
       "<g id=\"edge15\" class=\"edge\"><title>13&#45;&gt;15</title>\n",
       "<path fill=\"none\" stroke=\"black\" d=\"M696.642,-213.769C711.031,-202.006 726.847,-189.076 741.164,-177.371\"/>\n",
       "<polygon fill=\"black\" stroke=\"black\" points=\"743.419,-180.049 748.946,-171.01 738.988,-174.63 743.419,-180.049\"/>\n",
       "</g>\n",
       "</g>\n",
       "</svg>\n"
      ],
      "text/plain": [
       "<graphviz.files.Source at 0x112bc2dd0>"
      ]
     },
     "execution_count": 13,
     "metadata": {},
     "output_type": "execute_result"
    }
   ],
   "source": [
    "dot_data = tree.export_graphviz(clf, out_file=None, \n",
    "                         feature_names=iris.feature_names,  \n",
    "                         class_names=iris.target_names,  \n",
    "                         filled=True, rounded=True,  \n",
    "                         special_characters=True)\n",
    "graph = graphviz.Source(dot_data)  \n",
    "graph"
   ]
  },
  {
   "cell_type": "code",
   "execution_count": 14,
   "metadata": {},
   "outputs": [
    {
     "data": {
      "text/plain": [
       "array([0])"
      ]
     },
     "execution_count": 14,
     "metadata": {},
     "output_type": "execute_result"
    }
   ],
   "source": [
    "clf.predict(iris.data[:1, :])"
   ]
  },
  {
   "cell_type": "code",
   "execution_count": 15,
   "metadata": {},
   "outputs": [
    {
     "data": {
      "text/plain": [
       "array([[ 1.,  0.,  0.]])"
      ]
     },
     "execution_count": 15,
     "metadata": {},
     "output_type": "execute_result"
    }
   ],
   "source": [
    "clf.predict_proba(iris.data[:1, :])"
   ]
  },
  {
   "cell_type": "code",
   "execution_count": null,
   "metadata": {
    "collapsed": true
   },
   "outputs": [],
   "source": []
  }
 ],
 "metadata": {
  "kernelspec": {
   "display_name": "Python 2",
   "language": "python",
   "name": "python2"
  },
  "language_info": {
   "codemirror_mode": {
    "name": "ipython",
    "version": 2
   },
   "file_extension": ".py",
   "mimetype": "text/x-python",
   "name": "python",
   "nbconvert_exporter": "python",
   "pygments_lexer": "ipython2",
   "version": "2.7.13"
  }
 },
 "nbformat": 4,
 "nbformat_minor": 2
}
